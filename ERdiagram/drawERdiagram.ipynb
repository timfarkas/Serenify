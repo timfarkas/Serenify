{
 "cells": [
  {
   "cell_type": "code",
   "execution_count": 3,
   "metadata": {},
   "outputs": [
    {
     "data": {
      "text/plain": [
       "'serenify_erd.png'"
      ]
     },
     "execution_count": 3,
     "metadata": {},
     "output_type": "execute_result"
    }
   ],
   "source": [
    "from graphviz import Digraph ### requires `pip install graphviz` and `brew install graphviz`\n",
    "\n",
    "dot = Digraph()\n",
    "\n",
    "# Place User at the highest rank\n",
    "with dot.subgraph() as s:\n",
    "    s.attr(rank='min')  # Ensures that this is the highest row\n",
    "    s.node('User', 'User\\n{PK} user_id: int, username: str, password: str, type: str, is_disabled: bool')\n",
    "\n",
    "# Spacer nodes to separate Admin, Patient, and MHWP more\n",
    "dot.node('Spacer1', '', shape='point', width='0.01', height='0.01', style='invis')\n",
    "\n",
    "# Place Admin, Patient, and MHWP below User in the same row with a spacer\n",
    "with dot.subgraph() as s:\n",
    "    s.attr(rank='same')\n",
    "    s.node('Admin', 'Admin\\n{PK} admin_id: int', shape='box')\n",
    "    s.node('Patient', 'Patient\\n{PK} patient_id: int, fName: str, lName: str, email: str, emergency_contact_email: str', shape='box')\n",
    "    s.node('MHWP', 'MHWP\\n{PK} mhwp_id: int, fName: str, lName: str, email: str, specialization: str', shape='box')\n",
    "\n",
    "# Inheritance relationships (dashed with open arrowhead)\n",
    "dot.edge('User', 'Admin', label='inherits', style='dashed', arrowhead='onormal')\n",
    "dot.edge('User', 'Patient', label='inherits', style='dashed', arrowhead='onormal')\n",
    "dot.edge('User', 'MHWP', label='inherits', style='dashed', arrowhead='onormal')\n",
    "\n",
    "# Invisible edge to create spacing between Admin, Patient, and MHWP\n",
    "dot.edge('Admin', 'Spacer1', style='invis')\n",
    "dot.edge('Spacer1', 'Patient', style='invis')\n",
    "dot.edge('Patient', 'MHWP', style='invis')\n",
    "\n",
    "# Group JournalEntry, Appointment, PatientRecord, and Allocation in a new row\n",
    "with dot.subgraph() as s:\n",
    "    s.attr(rank='same')\n",
    "    s.node('JournalEntry', 'JournalEntry\\n{PK} entry_id: int, text: str, timestamp: datetime')\n",
    "    s.node('Appointment', 'Appointment\\n{PK} appointment_id: int, roomName : str, date: datetime, status: str')\n",
    "    s.node('PatientRecord', 'PatientRecord\\n{PK} record_id: int, notes: str, conditions: list')\n",
    "    s.node('Allocation', 'Allocation\\n{PK} allocation_id: int, start_date: datetime, end_date: datetime')\n",
    "\n",
    "# Relationships with multiplicity annotations\n",
    "\n",
    "# Admin allocates Patients to MHWPs explicitly through Allocation entity\n",
    "dot.edge('Admin', 'Allocation', label='creates (1:N)', style='solid', dir=\"both\", arrowhead='vee')\n",
    "dot.edge('Patient', 'Allocation', label='allocated to (1:1)', style='solid', dir=\"both\", arrowhead='vee')\n",
    "dot.edge('MHWP', 'Allocation', label='responsible for (1:N)', style='solid', dir=\"both\", arrowhead='vee')\n",
    "\n",
    "# Patient has multiple Journal Entries (1:N relationship)\n",
    "dot.edge('Patient', 'JournalEntry', label='writes (1:N)', style='solid', dir=\"both\", arrowhead='vee')\n",
    "\n",
    "# Patient and MHWP have Appointments\n",
    "dot.edge('Patient', 'Appointment', label='books (1:N)', style='solid', dir=\"both\", arrowhead='vee')\n",
    "dot.edge('MHWP', 'Appointment', label='confirms (1:N)', style='solid', dir=\"both\", arrowhead='vee')\n",
    "\n",
    "# PatientRecord relationships\n",
    "dot.edge('Patient', 'PatientRecord', label='has record entries (1:N)', style='solid', dir=\"both\", arrowhead='vee')\n",
    "dot.edge('PatientRecord', 'MHWP', label='created by (N:N)', style='solid', dir=\"both\", arrowhead='vee')\n",
    "\n",
    "# Render the diagram\n",
    "dot.render('serenify_erd', format='png')\n"
   ]
  }
 ],
 "metadata": {
  "kernelspec": {
   "display_name": ".venv",
   "language": "python",
   "name": "python3"
  },
  "language_info": {
   "codemirror_mode": {
    "name": "ipython",
    "version": 3
   },
   "file_extension": ".py",
   "mimetype": "text/x-python",
   "name": "python",
   "nbconvert_exporter": "python",
   "pygments_lexer": "ipython3",
   "version": "3.13.0"
  }
 },
 "nbformat": 4,
 "nbformat_minor": 2
}
