{
 "cells": [
  {
   "cell_type": "code",
   "execution_count": 13,
   "metadata": {},
   "outputs": [
    {
     "data": {
      "text/plain": [
       "'serenify_erd.png'"
      ]
     },
     "execution_count": 13,
     "metadata": {},
     "output_type": "execute_result"
    }
   ],
   "source": [
    "from graphviz import Digraph ### requires `pip install graphviz` and `brew install graphviz`\n",
    "\n",
    "dot = Digraph()\n",
    "\n",
    "# Place User at the highest rank\n",
    "with dot.subgraph() as s:\n",
    "    s.attr(rank='min')  # Ensures that this is the highest row\n",
    "    s.node('User', 'User\\n{PK} user_id, username, password, type, is_disabled')\n",
    "\n",
    "# Spacer nodes to separate Admin, Patient, and MHWP more\n",
    "dot.node('Spacer1', '', shape='point', width='0.01', height='0.01', style='invis')\n",
    "dot.node('Spacer2', '', shape='point', width='0.01', height='0.01', style='invis')\n",
    "\n",
    "# Place Admin, Patient, and MHWP below User in the same row with spacers\n",
    "with dot.subgraph() as s:\n",
    "    s.attr(rank='same')\n",
    "    s.node('Admin', 'Admin\\n{PK} admin_id', shape='box')\n",
    "    s.node('Patient', 'Patient\\n{PK} patient_id, name, email, emergency_contact_email, mood, mood_comment', shape='box')\n",
    "    s.node('MHWP', 'MHWP\\n{PK} mhwp_id, name, email, specialization', shape='box')\n",
    "\n",
    "# Inheritance relationships (dashed with open arrowhead)\n",
    "dot.edge('User', 'Admin', label='inherits', style='dashed', arrowhead='onormal')\n",
    "dot.edge('User', 'Patient', label='inherits', style='dashed', arrowhead='onormal')\n",
    "dot.edge('User', 'MHWP', label='inherits', style='dashed', arrowhead='onormal')\n",
    "\n",
    "# Invisible edges to create spacing between Admin, Patient, and MHWP\n",
    "dot.edge('Admin', 'Spacer1', style='invis')\n",
    "dot.edge('Spacer1', 'Patient', style='invis')\n",
    "dot.edge('Patient', 'Spacer2', style='invis')\n",
    "dot.edge('Spacer2', 'MHWP', style='invis')\n",
    "\n",
    "# JournalEntry Entity\n",
    "dot.node('JournalEntry', 'JournalEntry\\n{PK} entry_id, text, timestamp')\n",
    "\n",
    "# Appointment Entity\n",
    "dot.node('Appointment', 'Appointment\\n{PK} appointment_id, date, status')\n",
    "\n",
    "# Updated PatientRecord Entity with conditions field\n",
    "dot.node('PatientRecord', 'PatientRecord\\n{PK} record_id, notes, conditions')\n",
    "\n",
    "# Allocation Entity\n",
    "dot.node('Allocation', 'Allocation\\n{PK} allocation_id, start_date, end_date')\n",
    "\n",
    "# Relationships with multiplicity annotations\n",
    "\n",
    "# Admin allocates Patients to MHWPs explicitly through Allocation entity\n",
    "dot.edge('Admin', 'Allocation', label='creates (1:N)', style='solid', dir=\"both\", arrowhead='vee')\n",
    "dot.edge('Patient', 'Allocation', label='allocated to (1:1)', style='solid', dir=\"both\", arrowhead='vee')\n",
    "dot.edge('MHWP', 'Allocation', label='responsible for (1:N)', style='solid', dir=\"both\", arrowhead='vee')\n",
    "\n",
    "# Patient has multiple Journal Entries (1:N relationship)\n",
    "dot.edge('Patient', 'JournalEntry', label='writes (1:N)', style='solid', dir=\"both\", arrowhead='vee')\n",
    "\n",
    "# Patient and MHWP have Appointments\n",
    "dot.edge('Patient', 'Appointment', label='books (1:N)', style='solid', dir=\"both\", arrowhead='vee')\n",
    "dot.edge('MHWP', 'Appointment', label='confirms (1:N)', style='solid', dir=\"both\", arrowhead='vee')\n",
    "\n",
    "# PatientRecord relationships\n",
    "dot.edge('Patient', 'PatientRecord', label='has record (1:1)', style='solid', dir=\"both\", arrowhead='vee')\n",
    "dot.edge('PatientRecord', 'MHWP', label='created by (1:1)', style='solid', dir=\"both\", arrowhead='vee')\n",
    "\n",
    "# Render the diagram\n",
    "dot.render('serenify_erd', format='png')\n"
   ]
  }
 ],
 "metadata": {
  "kernelspec": {
   "display_name": ".venv",
   "language": "python",
   "name": "python3"
  },
  "language_info": {
   "codemirror_mode": {
    "name": "ipython",
    "version": 3
   },
   "file_extension": ".py",
   "mimetype": "text/x-python",
   "name": "python",
   "nbconvert_exporter": "python",
   "pygments_lexer": "ipython3",
   "version": "3.11.9"
  }
 },
 "nbformat": 4,
 "nbformat_minor": 2
}
